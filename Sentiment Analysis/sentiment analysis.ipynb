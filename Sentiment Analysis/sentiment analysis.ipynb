{
 "cells": [
  {
   "cell_type": "markdown",
   "metadata": {},
   "source": [
    "# Sentiment analysis of movie reviews\n",
    "- In this notebook, **random forest classifier** model has been trained separately on **Bag of words** features and **word embeddings** to classify sentiment of movie reviews.\n",
    "- **Word2Vec** model to create **word embeddings** has been trained on sentiments using gensim library."
   ]
  },
  {
   "cell_type": "markdown",
   "metadata": {
    "id": "cOZvjLM9XWGr"
   },
   "source": [
    "## Import necessary modules"
   ]
  },
  {
   "cell_type": "code",
   "execution_count": 1,
   "metadata": {
    "id": "PM4amHdEi4mE"
   },
   "outputs": [],
   "source": [
    "import os\n",
    "import numpy as np\n",
    "import pandas as pd\n",
    "from zipfile import ZipFile\n",
    "import matplotlib.pyplot as plt\n",
    "\n",
    "import nltk\n",
    "import re\n",
    "from bs4 import BeautifulSoup\n",
    "\n",
    "# downloads\n",
    "nltk.download('punkt')\n",
    "nltk.download('stopwords')\n",
    "\n",
    "# sentence tokenizer\n",
    "from nltk.tokenize import sent_tokenize \n",
    "from nltk.stem import PorterStemmer, WordNetLemmatizer\n",
    "from nltk.corpus import stopwords, wordnet\n",
    "\n",
    "from sklearn.model_selection import train_test_split\n",
    "from sklearn.feature_extraction.text import CountVectorizer, TfidfVectorizer\n",
    "from sklearn.ensemble import RandomForestClassifier, GradientBoostingClassifier\n",
    "from sklearn.metrics import accuracy_score, f1_score, confusion_matrix\n",
    "\n",
    "import logging\n",
    "from gensim.models import word2vec"
   ]
  },
  {
   "cell_type": "markdown",
   "metadata": {
    "id": "JWiFrTR9Xb17"
   },
   "source": [
    "### Mount google drive"
   ]
  },
  {
   "cell_type": "code",
   "execution_count": 2,
   "metadata": {
    "colab": {
     "base_uri": "https://localhost:8080/"
    },
    "id": "TS1GnND6B00A",
    "outputId": "4a9ad04b-bd30-4e60-bd2e-a6a9c47e5b30"
   },
   "outputs": [],
   "source": [
    "from google.colab import drive\n",
    "drive.mount('/content/drive')"
   ]
  },
  {
   "cell_type": "markdown",
   "metadata": {
    "id": "XsAZl8yZXgW8"
   },
   "source": [
    "## Extract data from zipfile"
   ]
  },
  {
   "cell_type": "code",
   "execution_count": 3,
   "metadata": {
    "id": "g2p8epei6EVs"
   },
   "outputs": [],
   "source": [
    "# zip file path  \n",
    "zip_data_path = '/content/drive/MyDrive/Movie_Reviews/reviews.zip'\n",
    "\n",
    "# extract the contents of reviews.zip file\n",
    "extract_dir = '/tmp/'\n",
    "\n",
    "with ZipFile(zip_data_path, 'r') as zip_ref:\n",
    "  zip_ref.extractall(extract_dir)"
   ]
  },
  {
   "cell_type": "code",
   "execution_count": 7,
   "metadata": {
    "colab": {
     "base_uri": "https://localhost:8080/"
    },
    "id": "UwAx2WMR64bl",
    "outputId": "e37b14b5-991a-4192-af55-83f074cd8ccd"
   },
   "outputs": [
    {
     "data": {
      "text/plain": [
       "['unlabeledTrainData.tsv.zip',\n",
       " 'labeledTrainData.tsv',\n",
       " 'labeledTrainData.tsv.zip',\n",
       " 'drivefs_ipc.0_shell',\n",
       " 'drivefs_ipc.0',\n",
       " 'tmpelmlma9v',\n",
       " 'testData.tsv.zip',\n",
       " 'sampleSubmission.csv']"
      ]
     },
     "execution_count": 7,
     "metadata": {
      "tags": []
     },
     "output_type": "execute_result"
    }
   ],
   "source": [
    "# construct the path of training data\n",
    "train_data_path = extract_dir + 'labeledTrainData.tsv.zip'\n",
    "\n",
    "# extract training data\n",
    "with ZipFile(train_data_path, 'r') as zip_ref:\n",
    "  zip_ref.extractall(extract_dir)\n",
    "\n",
    "# list the contents of extract_dir\n",
    "os.listdir(extract_dir)"
   ]
  },
  {
   "cell_type": "code",
   "execution_count": 9,
   "metadata": {
    "colab": {
     "base_uri": "https://localhost:8080/",
     "height": 196
    },
    "id": "aTXFJVce7U_5",
    "outputId": "495a31ac-a31e-4b6a-899c-29551ebad240"
   },
   "outputs": [
    {
     "data": {
      "text/html": [
       "<div>\n",
       "<style scoped>\n",
       "    .dataframe tbody tr th:only-of-type {\n",
       "        vertical-align: middle;\n",
       "    }\n",
       "\n",
       "    .dataframe tbody tr th {\n",
       "        vertical-align: top;\n",
       "    }\n",
       "\n",
       "    .dataframe thead th {\n",
       "        text-align: right;\n",
       "    }\n",
       "</style>\n",
       "<table border=\"1\" class=\"dataframe\">\n",
       "  <thead>\n",
       "    <tr style=\"text-align: right;\">\n",
       "      <th></th>\n",
       "      <th>id</th>\n",
       "      <th>sentiment</th>\n",
       "      <th>review</th>\n",
       "    </tr>\n",
       "  </thead>\n",
       "  <tbody>\n",
       "    <tr>\n",
       "      <th>0</th>\n",
       "      <td>\"5814_8\"</td>\n",
       "      <td>1</td>\n",
       "      <td>\"With all this stuff going down at the moment ...</td>\n",
       "    </tr>\n",
       "    <tr>\n",
       "      <th>1</th>\n",
       "      <td>\"2381_9\"</td>\n",
       "      <td>1</td>\n",
       "      <td>\"\\\"The Classic War of the Worlds\\\" by Timothy ...</td>\n",
       "    </tr>\n",
       "    <tr>\n",
       "      <th>2</th>\n",
       "      <td>\"7759_3\"</td>\n",
       "      <td>0</td>\n",
       "      <td>\"The film starts with a manager (Nicholas Bell...</td>\n",
       "    </tr>\n",
       "    <tr>\n",
       "      <th>3</th>\n",
       "      <td>\"3630_4\"</td>\n",
       "      <td>0</td>\n",
       "      <td>\"It must be assumed that those who praised thi...</td>\n",
       "    </tr>\n",
       "    <tr>\n",
       "      <th>4</th>\n",
       "      <td>\"9495_8\"</td>\n",
       "      <td>1</td>\n",
       "      <td>\"Superbly trashy and wondrously unpretentious ...</td>\n",
       "    </tr>\n",
       "  </tbody>\n",
       "</table>\n",
       "</div>"
      ],
      "text/plain": [
       "         id  sentiment                                             review\n",
       "0  \"5814_8\"          1  \"With all this stuff going down at the moment ...\n",
       "1  \"2381_9\"          1  \"\\\"The Classic War of the Worlds\\\" by Timothy ...\n",
       "2  \"7759_3\"          0  \"The film starts with a manager (Nicholas Bell...\n",
       "3  \"3630_4\"          0  \"It must be assumed that those who praised thi...\n",
       "4  \"9495_8\"          1  \"Superbly trashy and wondrously unpretentious ..."
      ]
     },
     "execution_count": 9,
     "metadata": {
      "tags": []
     },
     "output_type": "execute_result"
    }
   ],
   "source": [
    "# read the training data into pandas dataframe\n",
    "reviews_df = pd.read_csv(extract_dir + 'labeledTrainData.tsv', \n",
    "                         header = 0, \n",
    "                         delimiter = '\\t', \n",
    "                         quoting = 3)\n",
    "\n",
    "# display head of the dataframe\n",
    "reviews_df.head()"
   ]
  },
  {
   "cell_type": "markdown",
   "metadata": {
    "id": "9xjLYYMgYiHz"
   },
   "source": [
    "## Data exploration"
   ]
  },
  {
   "cell_type": "code",
   "execution_count": 10,
   "metadata": {
    "colab": {
     "base_uri": "https://localhost:8080/"
    },
    "id": "ylIy7Srq-Lur",
    "outputId": "802310c2-7ab4-46d4-b8f5-94d3cd1a28a6"
   },
   "outputs": [
    {
     "name": "stdout",
     "output_type": "stream",
     "text": [
      "<class 'pandas.core.frame.DataFrame'>\n",
      "RangeIndex: 25000 entries, 0 to 24999\n",
      "Data columns (total 3 columns):\n",
      " #   Column     Non-Null Count  Dtype \n",
      "---  ------     --------------  ----- \n",
      " 0   id         25000 non-null  object\n",
      " 1   sentiment  25000 non-null  int64 \n",
      " 2   review     25000 non-null  object\n",
      "dtypes: int64(1), object(2)\n",
      "memory usage: 586.1+ KB\n"
     ]
    }
   ],
   "source": [
    "reviews_df.info()"
   ]
  },
  {
   "cell_type": "code",
   "execution_count": 11,
   "metadata": {
    "colab": {
     "base_uri": "https://localhost:8080/"
    },
    "id": "NEWikgNH-cti",
    "outputId": "5c4a1e21-ab24-476b-ef99-18fc4c026e51"
   },
   "outputs": [
    {
     "data": {
      "text/plain": [
       "(25000, 3)"
      ]
     },
     "execution_count": 11,
     "metadata": {
      "tags": []
     },
     "output_type": "execute_result"
    }
   ],
   "source": [
    "# Check the shape of the dataset\n",
    "reviews_df.shape"
   ]
  },
  {
   "cell_type": "code",
   "execution_count": 12,
   "metadata": {
    "colab": {
     "base_uri": "https://localhost:8080/",
     "height": 262
    },
    "id": "mW7ntT1v-jTN",
    "outputId": "f5d15685-2b62-4764-b2a6-6fbea67efe64"
   },
   "outputs": [
    {
     "data": {
      "image/png": "[encoded data removed]",
      "text/plain": [
       "<Figure size 432x288 with 1 Axes>"
      ]
     },
     "metadata": {
      "needs_background": "light",
      "tags": []
     },
     "output_type": "display_data"
    }
   ],
   "source": [
    "# Check the number of reviews in each class\n",
    "reviews_df.sentiment.value_counts().plot(kind = 'bar');"
   ]
  },
  {
   "cell_type": "code",
   "execution_count": 14,
   "metadata": {
    "colab": {
     "base_uri": "https://localhost:8080/"
    },
    "id": "W4nfcNWc-vrw",
    "outputId": "8d7d84b1-072c-440f-9558-b8fabb89d2fa"
   },
   "outputs": [
    {
     "name": "stdout",
     "output_type": "stream",
     "text": [
      "Average number of characters in reviews: 1329.71056\n"
     ]
    }
   ],
   "source": [
    "# Check the average number of characters\n",
    "print(f'Average number of characters in reviews: {np.mean(reviews_df.review.apply(len))}')"
   ]
  },
  {
   "cell_type": "markdown",
   "metadata": {
    "id": "IAdHVJuOZVlt"
   },
   "source": [
    "### Print first review from the dataset"
   ]
  },
  {
   "cell_type": "code",
   "execution_count": 22,
   "metadata": {
    "colab": {
     "base_uri": "https://localhost:8080/",
     "height": 153
    },
    "id": "Mhb1UBl-_qHI",
    "outputId": "8f10927e-8028-42ae-abd2-a850d59b8c18",
    "scrolled": true
   },
   "outputs": [
    {
     "data": {
      "application/vnd.google.colaboratory.intrinsic+json": {
       "type": "string"
      },
      "text/plain": [
       "'\"With all this stuff going down at the moment with MJ i\\'ve started listening to his music, watching the odd documentary here and there, watched The Wiz and watched Moonwalker again. Maybe i just want to get a certain insight into this guy who i thought was really cool in the eighties just to maybe make up my mind whether he is guilty or innocent. Moonwalker is part biography, part feature film which i remember going to see at the cinema when it was originally released. Some of it has subtle messages about MJ\\'s feeling towards the press and also the obvious message of drugs are bad m\\'kay.<br /><br />Visually impressive but of course this is all about Michael Jackson so unless you remotely like MJ in anyway then you are going to hate this and find it boring. Some may call MJ an egotist for consenting to the making of this movie BUT MJ and most of his fans would say that he made it for the fans which if true is really nice of him.<br /><br />The actual feature film bit when it finally starts is only on for 20 minutes or so excluding the Smooth Criminal sequence and Joe Pesci is convincing as a psychopathic all powerful drug lord. Why he wants MJ dead so bad is beyond me. Because MJ overheard his plans? Nah, Joe Pesci\\'s character ranted that he wanted people to know it is he who is supplying drugs etc so i dunno, maybe he just hates MJ\\'s music.<br /><br />Lots of cool things in this like MJ turning into a car and a robot and the whole Speed Demon sequence. Also, the director must have had the patience of a saint when it came to filming the kiddy Bad sequence as usually directors hate working with one kid let alone a whole bunch of them performing a complex dance scene.<br /><br />Bottom line, this movie is for people who like MJ on one level or another (which i think is most people). If not, then stay away. It does try and give off a wholesome message and ironically MJ\\'s bestest buddy in this movie is a girl! Michael Jackson is truly one of the most talented people ever to grace this planet but is he guilty? Well, with all the attention i\\'ve gave this subject....hmmm well i don\\'t know because people can be different behind closed doors, i know this for a fact. He is either an extremely nice but stupid guy or one of the most sickest liars. I hope he is not the latter.\"'"
      ]
     },
     "execution_count": 22,
     "metadata": {
      "tags": []
     },
     "output_type": "execute_result"
    }
   ],
   "source": [
    "reviews_df.review[0]"
   ]
  },
  {
   "cell_type": "markdown",
   "metadata": {
    "id": "hpzTB3TxZmBG"
   },
   "source": [
    "## Clean reviews by removing\n",
    "1. Slashes\n",
    "2. html tags\n",
    "3. Numbers\n",
    "4. Punctuations"
   ]
  },
  {
   "cell_type": "code",
   "execution_count": 37,
   "metadata": {
    "colab": {
     "base_uri": "https://localhost:8080/",
     "height": 153
    },
    "id": "o1mRxrkY_jaL",
    "outputId": "f81414d8-94b9-4884-c6c9-2af28e7e71bb"
   },
   "outputs": [
    {
     "data": {
      "application/vnd.google.colaboratory.intrinsic+json": {
       "type": "string"
      },
      "text/plain": [
       "'\"With all this stuff going down at the moment with MJ i\\'ve started listening to his music, watching the odd documentary here and there, watched The Wiz and watched Moonwalker again. Maybe i just want to get a certain insight into this guy who i thought was really cool in the eighties just to maybe make up my mind whether he is guilty or innocent. Moonwalker is part biography, part feature film which i remember going to see at the cinema when it was originally released. Some of it has subtle messages about MJ\\'s feeling towards the press and also the obvious message of drugs are bad m\\'kay.Visually impressive but of course this is all about Michael Jackson so unless you remotely like MJ in anyway then you are going to hate this and find it boring. Some may call MJ an egotist for consenting to the making of this movie BUT MJ and most of his fans would say that he made it for the fans which if true is really nice of him.The actual feature film bit when it finally starts is only on for 20 minutes or so excluding the Smooth Criminal sequence and Joe Pesci is convincing as a psychopathic all powerful drug lord. Why he wants MJ dead so bad is beyond me. Because MJ overheard his plans? Nah, Joe Pesci\\'s character ranted that he wanted people to know it is he who is supplying drugs etc so i dunno, maybe he just hates MJ\\'s music.Lots of cool things in this like MJ turning into a car and a robot and the whole Speed Demon sequence. Also, the director must have had the patience of a saint when it came to filming the kiddy Bad sequence as usually directors hate working with one kid let alone a whole bunch of them performing a complex dance scene.Bottom line, this movie is for people who like MJ on one level or another (which i think is most people). If not, then stay away. It does try and give off a wholesome message and ironically MJ\\'s bestest buddy in this movie is a girl! Michael Jackson is truly one of the most talented people ever to grace this planet but is he guilty? Well, with all the attention i\\'ve gave this subject....hmmm well i don\\'t know because people can be different behind closed doors, i know this for a fact. He is either an extremely nice but stupid guy or one of the most sickest liars. I hope he is not the latter.\"'"
      ]
     },
     "execution_count": 37,
     "metadata": {
      "tags": []
     },
     "output_type": "execute_result"
    }
   ],
   "source": [
    "# remove html tags from first review\n",
    "review_1 = BeautifulSoup(reviews_df.review[0], features = 'lxml').text \n",
    "review_1"
   ]
  },
  {
   "cell_type": "code",
   "execution_count": 39,
   "metadata": {
    "colab": {
     "base_uri": "https://localhost:8080/"
    },
    "id": "D_rxam48BtUL",
    "outputId": "e072931b-7016-491a-a201-6a5a5763b4f3",
    "scrolled": true
   },
   "outputs": [
    {
     "name": "stdout",
     "output_type": "stream",
     "text": [
      "Number of sentences in first review: 15\n"
     ]
    },
    {
     "data": {
      "text/plain": [
       "['\"With all this stuff going down at the moment with MJ i\\'ve started listening to his music, watching the odd documentary here and there, watched The Wiz and watched Moonwalker again.',\n",
       " 'Maybe i just want to get a certain insight into this guy who i thought was really cool in the eighties just to maybe make up my mind whether he is guilty or innocent.',\n",
       " 'Moonwalker is part biography, part feature film which i remember going to see at the cinema when it was originally released.',\n",
       " \"Some of it has subtle messages about MJ's feeling towards the press and also the obvious message of drugs are bad m'kay.Visually impressive but of course this is all about Michael Jackson so unless you remotely like MJ in anyway then you are going to hate this and find it boring.\",\n",
       " 'Some may call MJ an egotist for consenting to the making of this movie BUT MJ and most of his fans would say that he made it for the fans which if true is really nice of him.The actual feature film bit when it finally starts is only on for 20 minutes or so excluding the Smooth Criminal sequence and Joe Pesci is convincing as a psychopathic all powerful drug lord.',\n",
       " 'Why he wants MJ dead so bad is beyond me.',\n",
       " 'Because MJ overheard his plans?',\n",
       " \"Nah, Joe Pesci's character ranted that he wanted people to know it is he who is supplying drugs etc so i dunno, maybe he just hates MJ's music.Lots of cool things in this like MJ turning into a car and a robot and the whole Speed Demon sequence.\",\n",
       " 'Also, the director must have had the patience of a saint when it came to filming the kiddy Bad sequence as usually directors hate working with one kid let alone a whole bunch of them performing a complex dance scene.Bottom line, this movie is for people who like MJ on one level or another (which i think is most people).',\n",
       " 'If not, then stay away.',\n",
       " \"It does try and give off a wholesome message and ironically MJ's bestest buddy in this movie is a girl!\",\n",
       " 'Michael Jackson is truly one of the most talented people ever to grace this planet but is he guilty?',\n",
       " \"Well, with all the attention i've gave this subject....hmmm well i don't know because people can be different behind closed doors, i know this for a fact.\",\n",
       " 'He is either an extremely nice but stupid guy or one of the most sickest liars.',\n",
       " 'I hope he is not the latter.\"']"
      ]
     },
     "execution_count": 39,
     "metadata": {
      "tags": []
     },
     "output_type": "execute_result"
    }
   ],
   "source": [
    "# Tokenize the sentence\n",
    "print(f'Number of sentences in first review: {len(sent_tokenize(review_1))}')\n",
    "\n",
    "# doesn't really split all sentences\n",
    "sent_tokenize(review_1)"
   ]
  },
  {
   "cell_type": "code",
   "execution_count": 42,
   "metadata": {
    "colab": {
     "base_uri": "https://localhost:8080/"
    },
    "id": "RwanI5c-CPEN",
    "outputId": "d6831a39-1229-4913-9bd8-d89772841309"
   },
   "outputs": [
    {
     "name": "stdout",
     "output_type": "stream",
     "text": [
      "Number of sentences in first review: 23\n",
      "\n"
     ]
    }
   ],
   "source": [
    "# Check if it does a better job if we add space after every period\n",
    "review_1 = review_1.replace('.','. ')\n",
    "\n",
    "print(f'Number of sentences in first review: {len(sent_tokenize(review_1))}', end = '\\n\\n')"
   ]
  },
  {
   "cell_type": "markdown",
   "metadata": {
    "id": "fHoMyLonb5fI"
   },
   "source": [
    "- It does solve the problem of splitting sentences"
   ]
  },
  {
   "cell_type": "code",
   "execution_count": 43,
   "metadata": {
    "colab": {
     "base_uri": "https://localhost:8080/"
    },
    "id": "AyhY3TJ2CqWL",
    "outputId": "438d082c-21e0-4324-9b66-130a09d333d9",
    "scrolled": true
   },
   "outputs": [
    {
     "name": "stdout",
     "output_type": "stream",
     "text": [
      "\"With all this stuff going down at the moment with MJ i've started listening to his music, watching the odd documentary here and there, watched The Wiz and watched Moonwalker again.\n",
      "Maybe i just want to get a certain insight into this guy who i thought was really cool in the eighties just to maybe make up my mind whether he is guilty or innocent.\n",
      "Moonwalker is part biography, part feature film which i remember going to see at the cinema when it was originally released.\n",
      "Some of it has subtle messages about MJ's feeling towards the press and also the obvious message of drugs are bad m'kay.\n",
      "Visually impressive but of course this is all about Michael Jackson so unless you remotely like MJ in anyway then you are going to hate this and find it boring.\n",
      "Some may call MJ an egotist for consenting to the making of this movie BUT MJ and most of his fans would say that he made it for the fans which if true is really nice of him.\n",
      "The actual feature film bit when it finally starts is only on for 20 minutes or so excluding the Smooth Criminal sequence and Joe Pesci is convincing as a psychopathic all powerful drug lord.\n",
      "Why he wants MJ dead so bad is beyond me.\n",
      "Because MJ overheard his plans?\n",
      "Nah, Joe Pesci's character ranted that he wanted people to know it is he who is supplying drugs etc so i dunno, maybe he just hates MJ's music.\n",
      "Lots of cool things in this like MJ turning into a car and a robot and the whole Speed Demon sequence.\n",
      "Also, the director must have had the patience of a saint when it came to filming the kiddy Bad sequence as usually directors hate working with one kid let alone a whole bunch of them performing a complex dance scene.\n",
      "Bottom line, this movie is for people who like MJ on one level or another (which i think is most people).\n",
      "If not, then stay away.\n",
      "It does try and give off a wholesome message and ironically MJ's bestest buddy in this movie is a girl!\n",
      "Michael Jackson is truly one of the most talented people ever to grace this planet but is he guilty?\n",
      "Well, with all the attention i've gave this subject.\n",
      ".\n",
      ".\n",
      ".\n",
      "hmmm well i don't know because people can be different behind closed doors, i know this for a fact.\n",
      "He is either an extremely nice but stupid guy or one of the most sickest liars.\n",
      "I hope he is not the latter. \"\n"
     ]
    }
   ],
   "source": [
    "# print all sentences of first review\n",
    "for sentence in sent_tokenize(review_1):\n",
    "  print(sentence, end = '\\n')"
   ]
  },
  {
   "cell_type": "code",
   "execution_count": 44,
   "metadata": {
    "colab": {
     "base_uri": "https://localhost:8080/",
     "height": 153
    },
    "id": "_sOaM2tOCy8O",
    "outputId": "c42d694e-6f87-43ea-de45-4e8dd8c91938",
    "scrolled": true
   },
   "outputs": [
    {
     "data": {
      "application/vnd.google.colaboratory.intrinsic+json": {
       "type": "string"
      },
      "text/plain": [
       "'With all this stuff going down at the moment with MJ ive started listening to his music watching the odd documentary here and there watched The Wiz and watched Moonwalker again  Maybe i just want to get a certain insight into this guy who i thought was really cool in the eighties just to maybe make up my mind whether he is guilty or innocent  Moonwalker is part biography part feature film which i remember going to see at the cinema when it was originally released  Some of it has subtle messages about MJs feeling towards the press and also the obvious message of drugs are bad mkay Visually impressive but of course this is all about Michael Jackson so unless you remotely like MJ in anyway then you are going to hate this and find it boring  Some may call MJ an egotist for consenting to the making of this movie BUT MJ and most of his fans would say that he made it for the fans which if true is really nice of him The actual feature film bit when it finally starts is only on for  minutes or so excluding the Smooth Criminal sequence and Joe Pesci is convincing as a psychopathic all powerful drug lord  Why he wants MJ dead so bad is beyond me  Because MJ overheard his plans Nah Joe Pescis character ranted that he wanted people to know it is he who is supplying drugs etc so i dunno maybe he just hates MJs music Lots of cool things in this like MJ turning into a car and a robot and the whole Speed Demon sequence  Also the director must have had the patience of a saint when it came to filming the kiddy Bad sequence as usually directors hate working with one kid let alone a whole bunch of them performing a complex dance scene Bottom line this movie is for people who like MJ on one level or another which i think is most people  If not then stay away  It does try and give off a wholesome message and ironically MJs bestest buddy in this movie is a girl Michael Jackson is truly one of the most talented people ever to grace this planet but is he guilty Well with all the attention ive gave this subject    hmmm well i dont know because people can be different behind closed doors i know this for a fact  He is either an extremely nice but stupid guy or one of the most sickest liars  I hope he is not the latter '"
      ]
     },
     "execution_count": 44,
     "metadata": {
      "tags": []
     },
     "output_type": "execute_result"
    }
   ],
   "source": [
    "# remove punctuations and all special characters from first review\n",
    "review_1 = re.sub('[^a-zA-Z ]', '', review_1)\n",
    "review_1"
   ]
  },
  {
   "cell_type": "code",
   "execution_count": 45,
   "metadata": {
    "colab": {
     "base_uri": "https://localhost:8080/",
     "height": 153
    },
    "id": "2Ys6cfqRDLLK",
    "outputId": "5f7114cb-12ba-4ac1-8b35-af92350d854a",
    "scrolled": true
   },
   "outputs": [
    {
     "data": {
      "application/vnd.google.colaboratory.intrinsic+json": {
       "type": "string"
      },
      "text/plain": [
       "'with all this stuff going down at the moment with mj ive started listening to his music watching the odd documentary here and there watched the wiz and watched moonwalker again  maybe i just want to get a certain insight into this guy who i thought was really cool in the eighties just to maybe make up my mind whether he is guilty or innocent  moonwalker is part biography part feature film which i remember going to see at the cinema when it was originally released  some of it has subtle messages about mjs feeling towards the press and also the obvious message of drugs are bad mkay visually impressive but of course this is all about michael jackson so unless you remotely like mj in anyway then you are going to hate this and find it boring  some may call mj an egotist for consenting to the making of this movie but mj and most of his fans would say that he made it for the fans which if true is really nice of him the actual feature film bit when it finally starts is only on for  minutes or so excluding the smooth criminal sequence and joe pesci is convincing as a psychopathic all powerful drug lord  why he wants mj dead so bad is beyond me  because mj overheard his plans nah joe pescis character ranted that he wanted people to know it is he who is supplying drugs etc so i dunno maybe he just hates mjs music lots of cool things in this like mj turning into a car and a robot and the whole speed demon sequence  also the director must have had the patience of a saint when it came to filming the kiddy bad sequence as usually directors hate working with one kid let alone a whole bunch of them performing a complex dance scene bottom line this movie is for people who like mj on one level or another which i think is most people  if not then stay away  it does try and give off a wholesome message and ironically mjs bestest buddy in this movie is a girl michael jackson is truly one of the most talented people ever to grace this planet but is he guilty well with all the attention ive gave this subject    hmmm well i dont know because people can be different behind closed doors i know this for a fact  he is either an extremely nice but stupid guy or one of the most sickest liars  i hope he is not the latter '"
      ]
     },
     "execution_count": 45,
     "metadata": {
      "tags": []
     },
     "output_type": "execute_result"
    }
   ],
   "source": [
    "# lower case all the characters of the first review\n",
    "review_1 = review_1.lower()\n",
    "review_1"
   ]
  },
  {
   "cell_type": "markdown",
   "metadata": {
    "id": "1GtMPaQicetN"
   },
   "source": [
    "### Define a helper function to clean all the reviews"
   ]
  },
  {
   "cell_type": "code",
   "execution_count": 46,
   "metadata": {
    "id": "KeUH_BDTDT-N"
   },
   "outputs": [],
   "source": [
    "def clean_reviews(review):\n",
    "  \"\"\"\n",
    "  Clean and preprocess a review\n",
    "  1. Remove HTML tags\n",
    "  2. Use regex to remove all special characters (only keep letters)\n",
    "  3. Make strings to lower case and tokenize / word split reviews\n",
    "  4. Remove English stopwords\n",
    "  5. Rejoin to one string\n",
    "  \n",
    "  Args:\n",
    "      review: raw review\n",
    "  \n",
    "  Returns:\n",
    "      review: clean review\n",
    "  \"\"\"\n",
    "\n",
    "  #1. Remove HTML tags\n",
    "  review = BeautifulSoup(review).text\n",
    "  \n",
    "  #2. Use regex to find emoticons\n",
    "  emotions = re.findall('(?::|;|=)(?:-)?(?:\\)|\\(|D|P)', review)\n",
    "  \n",
    "  #3. Remove punctuation\n",
    "  review = re.sub(\"[^a-zA-Z]\", \" \", review)\n",
    "  \n",
    "  #4. Tokenize into words (all lower case)\n",
    "  review = review.lower().split()\n",
    "  \n",
    "  #5. Remove stopwords\n",
    "  eng_stopwords = set(stopwords.words(\"english\"))\n",
    "  review = [w for w in review if not w in eng_stopwords]\n",
    "  \n",
    "  #6. Join the review to form one sentence\n",
    "  review = ' '.join(review + emotions)\n",
    "\n",
    "  return review"
   ]
  },
  {
   "cell_type": "code",
   "execution_count": 48,
   "metadata": {
    "colab": {
     "base_uri": "https://localhost:8080/"
    },
    "id": "jn4AFAabEQhs",
    "outputId": "d7f8b3b1-d07a-40f3-a002-a2407dcd55fc"
   },
   "outputs": [
    {
     "name": "stdout",
     "output_type": "stream",
     "text": [
      "Done with 5000 reviews\n",
      "Done with 10000 reviews\n",
      "Done with 15000 reviews\n",
      "Done with 20000 reviews\n",
      "Done with 25000 reviews\n"
     ]
    }
   ],
   "source": [
    "# store the clean reviews\n",
    "review_clean_original = []\n",
    "\n",
    "# number of reviews in the dataset\n",
    "num_reviews = reviews_df.shape[0]\n",
    "\n",
    "for i in range(num_reviews):\n",
    "  if((i + 1) % 5000 == 0 ):\n",
    "    # print progress\n",
    "    print(\"Done with %d reviews\" %(i + 1)) \n",
    "  review_clean_original.append(clean_reviews(reviews_df['review'][i]))"
   ]
  },
  {
   "cell_type": "markdown",
   "metadata": {
    "id": "GM1tjq9nf5Vq"
   },
   "source": [
    "## Split the data into training and validation sets"
   ]
  },
  {
   "cell_type": "code",
   "execution_count": 51,
   "metadata": {
    "colab": {
     "base_uri": "https://localhost:8080/"
    },
    "id": "NKsuBrX3ga3q",
    "outputId": "cfe05bd1-af82-4a03-d96f-27dc48f67814"
   },
   "outputs": [
    {
     "name": "stdout",
     "output_type": "stream",
     "text": [
      "x_train shape: (20000,)\n",
      "y_train shape: (20000,)\n",
      "x_val shape: (5000,)\n",
      "y_val shape: (5000,)\n"
     ]
    }
   ],
   "source": [
    "x_train, x_val, y_train, y_val = train_test_split(np.array(review_clean_original), \n",
    "                                                  reviews_df['sentiment'], \n",
    "                                                  test_size = 0.2, \n",
    "                                                  random_state = 42, \n",
    "                                                  stratify = reviews_df['sentiment'])\n",
    "\n",
    "# print the shape of the training and validation datasets\n",
    "print(f'x_train shape: {x_train.shape}\\ny_train shape: {y_train.shape}')\n",
    "print(f'x_val shape: {x_val.shape}\\ny_val shape: {y_val.shape}')"
   ]
  },
  {
   "cell_type": "markdown",
   "metadata": {},
   "source": [
    "## Bag of words approach"
   ]
  },
  {
   "cell_type": "code",
   "execution_count": 52,
   "metadata": {
    "colab": {
     "base_uri": "https://localhost:8080/"
    },
    "id": "-6UPEnudhKFc",
    "outputId": "5b9a3a47-a7d5-48b6-b68e-3b9d7cdce5f9"
   },
   "outputs": [
    {
     "data": {
      "text/plain": [
       "CountVectorizer(analyzer='word', binary=False, decode_error='strict',\n",
       "                dtype=<class 'numpy.int64'>, encoding='utf-8', input='content',\n",
       "                lowercase=True, max_df=1.0, max_features=5000, min_df=1,\n",
       "                ngram_range=(1, 1), preprocessor=None, stop_words=None,\n",
       "                strip_accents=None, token_pattern='(?u)\\\\b\\\\w\\\\w+\\\\b',\n",
       "                tokenizer=None, vocabulary=None)"
      ]
     },
     "execution_count": 52,
     "metadata": {
      "tags": []
     },
     "output_type": "execute_result"
    }
   ],
   "source": [
    "# Instantiate CountVectorizer class object\n",
    "vectorizer = CountVectorizer(analyzer = \"word\", \n",
    "                             tokenizer = None, \n",
    "                             preprocessor = None, \n",
    "                             stop_words = None, \n",
    "                             max_features = 5000)\n",
    "\n",
    "# fit on the training data\n",
    "vectorizer.fit(x_train)"
   ]
  },
  {
   "cell_type": "code",
   "execution_count": 53,
   "metadata": {
    "colab": {
     "base_uri": "https://localhost:8080/"
    },
    "id": "8aNIsdVniLTk",
    "outputId": "a85bd412-8f7d-4b14-f608-c933a84418d9"
   },
   "outputs": [
    {
     "data": {
      "text/plain": [
       "['abandoned',\n",
       " 'abc',\n",
       " 'abilities',\n",
       " 'ability',\n",
       " 'able',\n",
       " 'abraham',\n",
       " 'absence',\n",
       " 'absent',\n",
       " 'absolute',\n",
       " 'absolutely']"
      ]
     },
     "execution_count": 53,
     "metadata": {
      "tags": []
     },
     "output_type": "execute_result"
    }
   ],
   "source": [
    "# print the first 10 features\n",
    "vectorizer.get_feature_names()[:10]"
   ]
  },
  {
   "cell_type": "code",
   "execution_count": 54,
   "metadata": {
    "id": "c-LA-SbpiTjK"
   },
   "outputs": [],
   "source": [
    "# Transform the training and validation data into a feature matrix\n",
    "train_bow = vectorizer.transform(x_train) \n",
    "val_bow = vectorizer.transform(x_val)"
   ]
  },
  {
   "cell_type": "code",
   "execution_count": 57,
   "metadata": {
    "colab": {
     "base_uri": "https://localhost:8080/"
    },
    "id": "8oDszYATnMhN",
    "outputId": "789b7c70-7915-4d1c-9952-7755c04689d8"
   },
   "outputs": [
    {
     "name": "stdout",
     "output_type": "stream",
     "text": [
      "train_bow shape: (20000, 5000)\n",
      "val_bow shape: (5000, 5000)\n"
     ]
    }
   ],
   "source": [
    "print(f'train_bow shape: {train_bow.toarray().shape}')\n",
    "print(f'val_bow shape: {val_bow.toarray().shape}')"
   ]
  },
  {
   "cell_type": "markdown",
   "metadata": {
    "id": "74FbERdWpal9"
   },
   "source": [
    "## Fit random forest classifier model on bag of words features "
   ]
  },
  {
   "cell_type": "code",
   "execution_count": 58,
   "metadata": {
    "colab": {
     "base_uri": "https://localhost:8080/"
    },
    "id": "r82ED_bqnxXd",
    "outputId": "b81223f7-2c4f-4812-fac9-22f27c0f7792"
   },
   "outputs": [
    {
     "data": {
      "text/plain": [
       "RandomForestClassifier(bootstrap=True, ccp_alpha=0.0, class_weight=None,\n",
       "                       criterion='gini', max_depth=None, max_features='auto',\n",
       "                       max_leaf_nodes=None, max_samples=None,\n",
       "                       min_impurity_decrease=0.0, min_impurity_split=None,\n",
       "                       min_samples_leaf=1, min_samples_split=2,\n",
       "                       min_weight_fraction_leaf=0.0, n_estimators=100,\n",
       "                       n_jobs=None, oob_score=False, random_state=None,\n",
       "                       verbose=0, warm_start=False)"
      ]
     },
     "execution_count": 58,
     "metadata": {
      "tags": []
     },
     "output_type": "execute_result"
    }
   ],
   "source": [
    "# Instantiate RandomForest Model\n",
    "rf_model = RandomForestClassifier()\n",
    "\n",
    "# Fit the model on the training data\n",
    "rf_model.fit(train_bow, y_train)"
   ]
  },
  {
   "cell_type": "markdown",
   "metadata": {
    "id": "Tf0NTmZ9qHqV"
   },
   "source": [
    "## Evaluate the model performance on the validation dataset"
   ]
  },
  {
   "cell_type": "code",
   "execution_count": 59,
   "metadata": {
    "colab": {
     "base_uri": "https://localhost:8080/"
    },
    "id": "-Fh25fqAqM-3",
    "outputId": "d811cf5d-ea59-4e3b-c565-7d6f70386a79"
   },
   "outputs": [
    {
     "name": "stdout",
     "output_type": "stream",
     "text": [
      "Accuracy on validation data set: 0.8406\n"
     ]
    }
   ],
   "source": [
    "pred_val = rf_model.predict(val_bow)\n",
    "print(f'Accuracy on validation data set: {accuracy_score(y_val, pred_val)}')"
   ]
  },
  {
   "cell_type": "code",
   "execution_count": 60,
   "metadata": {
    "colab": {
     "base_uri": "https://localhost:8080/"
    },
    "id": "FrRSE-Y-qfOP",
    "outputId": "7def331f-ba72-4ce1-9a5e-946d445ed27a"
   },
   "outputs": [
    {
     "data": {
      "text/plain": [
       "array([[2115,  385],\n",
       "       [ 412, 2088]])"
      ]
     },
     "execution_count": 60,
     "metadata": {
      "tags": []
     },
     "output_type": "execute_result"
    }
   ],
   "source": [
    "# confusion matrix\n",
    "confusion_matrix(y_val, pred_val)"
   ]
  },
  {
   "cell_type": "code",
   "execution_count": 61,
   "metadata": {
    "colab": {
     "base_uri": "https://localhost:8080/"
    },
    "id": "o-FvdwsZqo2v",
    "outputId": "76874ce0-c872-4378-c806-ab9204f90310"
   },
   "outputs": [
    {
     "data": {
      "text/plain": [
       "0.8397345666599638"
      ]
     },
     "execution_count": 61,
     "metadata": {
      "tags": []
     },
     "output_type": "execute_result"
    }
   ],
   "source": [
    "# f1-score\n",
    "f1_score(y_val, pred_val)"
   ]
  },
  {
   "cell_type": "markdown",
   "metadata": {},
   "source": [
    "## Define a function to prepare data, built and evaluate model"
   ]
  },
  {
   "cell_type": "code",
   "execution_count": null,
   "metadata": {
    "id": "VSxx51IxyQct"
   },
   "outputs": [],
   "source": [
    "def predict_sentiment(cleaned_reviews, y = train[\"sentiment\"], max_features = 5000):\n",
    "  \"\"\"\n",
    "  This function prepares bag of words features, split the data into training and validation datasets,\n",
    "  fits the random forest model and evaluate its performance on the validation data\n",
    "  \n",
    "  Args:\n",
    "      cleaned_reviews: list of processed reviews\n",
    "      y: target variable (0: negative sentiment, 1: positive sentiment)\n",
    "      max_features: maximum number of words in the vocabulary\n",
    "      \n",
    "  Returns:\n",
    "      rf_model: random forest model\n",
    "      vectorizer: bag of words model\n",
    "  \"\"\"\n",
    "\n",
    "\n",
    "  print(\"Creating the bag of words model!\\n\")\n",
    "  vectorizer = CountVectorizer(analyzer = \"word\",\n",
    "                               tokenizer = None,\n",
    "                               preprocessor = None,\n",
    "                               stop_words = None,\n",
    "                               max_features = max_features) \n",
    "    \n",
    "  print(\"Splitting data into training and validation sets!\\n\")\n",
    "  x_train, x_val, y_train, y_val = train_test_split(cleaned_reviews, \n",
    "                                                    y, \n",
    "                                                    random_state = 42, \n",
    "                                                    test_size = 0.2)\n",
    "\n",
    "  # use fit_transform() to fit the model/learn the vocabulary and transform the data into feature vectors\n",
    "  # input should be a list of strings. .toarraty() converts to a numpy array\n",
    "  \n",
    "  train_bow = vectorizer.fit_transform(x_train).toarray()\n",
    "  val_bow = vectorizer.transform(x_val).toarray()\n",
    "\n",
    "  # You can extract the vocabulary created by CountVectorizer\n",
    "  # by running print(vectorizer.get_feature_names())\n",
    "\n",
    "  print(\"Training the random forest classifier!\\n\")\n",
    "  # Initialize a Random Forest classifier\n",
    "  rf_model = RandomForestClassifier() \n",
    "\n",
    "  # Fit the random forest model to the training set, using the bag of words as \n",
    "  # features and the sentiment labels as the target variable\n",
    "  rf_model.fit(train_bow, y_train)\n",
    "\n",
    "\n",
    "  print(\"Making predictions on the validation set!\\n\")\n",
    "  val_preds = rf_model.predict(val_bow)\n",
    "\n",
    "  print(\"Calculating accuracy on the validation set!\\n\")\n",
    "  valid_acc = accuracy_score(y_val, val_preds)\n",
    "  print(\"The validation accuracy is: \", valid_acc)\n",
    "  \n",
    "  return (rf_model, vectorizer)"
   ]
  },
  {
   "cell_type": "markdown",
   "metadata": {},
   "source": [
    "## Prepare Word2Vec features using gensim library "
   ]
  },
  {
   "cell_type": "code",
   "execution_count": 63,
   "metadata": {
    "colab": {
     "base_uri": "https://localhost:8080/"
    },
    "id": "XR6W26kSq0fO",
    "outputId": "fc340d11-0822-4d4a-ee2d-a9e644e64f0d"
   },
   "outputs": [
    {
     "name": "stderr",
     "output_type": "stream",
     "text": [
      "2021-01-02 10:51:34,993 : INFO : 'pattern' package not found; tag filters are not available for English\n",
      "2021-01-02 10:51:35,005 : INFO : collecting all words and their counts\n",
      "2021-01-02 10:51:35,006 : INFO : PROGRESS: at sentence #0, processed 0 words, keeping 0 word types\n"
     ]
    },
    {
     "name": "stdout",
     "output_type": "stream",
     "text": [
      "Training model...\n"
     ]
    },
    {
     "name": "stderr",
     "output_type": "stream",
     "text": [
      "2021-01-02 10:51:35,300 : INFO : PROGRESS: at sentence #10000, processed 1205390 words, keeping 51389 word types\n",
      "2021-01-02 10:51:35,611 : INFO : PROGRESS: at sentence #20000, processed 2396959 words, keeping 67676 word types\n",
      "2021-01-02 10:51:35,769 : INFO : collected 74082 word types from a corpus of 2988534 raw words and 25000 sentences\n",
      "2021-01-02 10:51:35,770 : INFO : Loading a fresh vocabulary\n",
      "2021-01-02 10:51:35,824 : INFO : effective_min_count=40 retains 8164 unique words (11% of original 74082, drops 65918)\n",
      "2021-01-02 10:51:35,825 : INFO : effective_min_count=40 leaves 2627602 word corpus (87% of original 2988534, drops 360932)\n",
      "2021-01-02 10:51:35,860 : INFO : deleting the raw counts dictionary of 74082 items\n",
      "2021-01-02 10:51:35,868 : INFO : sample=0.001 downsamples 30 most-common words\n",
      "2021-01-02 10:51:35,869 : INFO : downsampling leaves estimated 2494733 word corpus (94.9% of prior 2627602)\n",
      "2021-01-02 10:51:35,900 : INFO : estimated required memory for 8164 words and 100 dimensions: 10613200 bytes\n",
      "2021-01-02 10:51:35,901 : INFO : resetting layer weights\n",
      "2021-01-02 10:51:37,565 : INFO : training model with 4 workers on 8164 vocabulary and 100 features, using sg=0 hs=0 sample=0.001 negative=5 window=12\n",
      "2021-01-02 10:51:38,576 : INFO : EPOCH 1 - PROGRESS: at 17.57% examples, 444160 words/s, in_qsize 7, out_qsize 0\n",
      "2021-01-02 10:51:39,589 : INFO : EPOCH 1 - PROGRESS: at 36.03% examples, 450838 words/s, in_qsize 7, out_qsize 0\n",
      "2021-01-02 10:51:40,594 : INFO : EPOCH 1 - PROGRESS: at 54.88% examples, 457139 words/s, in_qsize 7, out_qsize 0\n",
      "2021-01-02 10:51:41,616 : INFO : EPOCH 1 - PROGRESS: at 73.92% examples, 458388 words/s, in_qsize 7, out_qsize 0\n",
      "2021-01-02 10:51:42,627 : INFO : EPOCH 1 - PROGRESS: at 93.03% examples, 459935 words/s, in_qsize 7, out_qsize 0\n",
      "2021-01-02 10:51:42,931 : INFO : worker thread finished; awaiting finish of 3 more threads\n",
      "2021-01-02 10:51:42,932 : INFO : worker thread finished; awaiting finish of 2 more threads\n",
      "2021-01-02 10:51:42,936 : INFO : worker thread finished; awaiting finish of 1 more threads\n",
      "2021-01-02 10:51:42,957 : INFO : worker thread finished; awaiting finish of 0 more threads\n",
      "2021-01-02 10:51:42,959 : INFO : EPOCH - 1 : training on 2988534 raw words (2494648 effective words) took 5.4s, 463172 effective words/s\n",
      "2021-01-02 10:51:43,999 : INFO : EPOCH 2 - PROGRESS: at 18.22% examples, 447722 words/s, in_qsize 7, out_qsize 0\n",
      "2021-01-02 10:51:45,025 : INFO : EPOCH 2 - PROGRESS: at 37.76% examples, 462024 words/s, in_qsize 7, out_qsize 0\n",
      "2021-01-02 10:51:46,044 : INFO : EPOCH 2 - PROGRESS: at 56.23% examples, 461217 words/s, in_qsize 8, out_qsize 1\n",
      "2021-01-02 10:51:47,065 : INFO : EPOCH 2 - PROGRESS: at 75.57% examples, 462415 words/s, in_qsize 7, out_qsize 0\n",
      "2021-01-02 10:51:48,093 : INFO : EPOCH 2 - PROGRESS: at 94.73% examples, 461579 words/s, in_qsize 7, out_qsize 0\n",
      "2021-01-02 10:51:48,314 : INFO : worker thread finished; awaiting finish of 3 more threads\n",
      "2021-01-02 10:51:48,318 : INFO : worker thread finished; awaiting finish of 2 more threads\n",
      "2021-01-02 10:51:48,336 : INFO : worker thread finished; awaiting finish of 1 more threads\n",
      "2021-01-02 10:51:48,354 : INFO : worker thread finished; awaiting finish of 0 more threads\n",
      "2021-01-02 10:51:48,355 : INFO : EPOCH - 2 : training on 2988534 raw words (2494789 effective words) took 5.4s, 462954 effective words/s\n",
      "2021-01-02 10:51:49,374 : INFO : EPOCH 3 - PROGRESS: at 17.58% examples, 439207 words/s, in_qsize 5, out_qsize 2\n",
      "2021-01-02 10:51:50,417 : INFO : EPOCH 3 - PROGRESS: at 37.03% examples, 453969 words/s, in_qsize 5, out_qsize 2\n",
      "2021-01-02 10:51:51,433 : INFO : EPOCH 3 - PROGRESS: at 56.14% examples, 460225 words/s, in_qsize 7, out_qsize 0\n",
      "2021-01-02 10:51:52,437 : INFO : EPOCH 3 - PROGRESS: at 75.24% examples, 462711 words/s, in_qsize 6, out_qsize 1\n",
      "2021-01-02 10:51:53,477 : INFO : EPOCH 3 - PROGRESS: at 95.05% examples, 463944 words/s, in_qsize 7, out_qsize 0\n",
      "2021-01-02 10:51:53,671 : INFO : worker thread finished; awaiting finish of 3 more threads\n",
      "2021-01-02 10:51:53,688 : INFO : worker thread finished; awaiting finish of 2 more threads\n",
      "2021-01-02 10:51:53,690 : INFO : worker thread finished; awaiting finish of 1 more threads\n",
      "2021-01-02 10:51:53,691 : INFO : worker thread finished; awaiting finish of 0 more threads\n",
      "2021-01-02 10:51:53,692 : INFO : EPOCH - 3 : training on 2988534 raw words (2494833 effective words) took 5.3s, 467803 effective words/s\n",
      "2021-01-02 10:51:54,710 : INFO : EPOCH 4 - PROGRESS: at 17.25% examples, 435282 words/s, in_qsize 7, out_qsize 0\n",
      "2021-01-02 10:51:55,713 : INFO : EPOCH 4 - PROGRESS: at 36.05% examples, 453195 words/s, in_qsize 7, out_qsize 0\n",
      "2021-01-02 10:51:56,717 : INFO : EPOCH 4 - PROGRESS: at 54.19% examples, 453219 words/s, in_qsize 7, out_qsize 0\n",
      "2021-01-02 10:51:57,750 : INFO : EPOCH 4 - PROGRESS: at 73.62% examples, 456923 words/s, in_qsize 7, out_qsize 3\n",
      "2021-01-02 10:51:58,795 : INFO : EPOCH 4 - PROGRESS: at 93.03% examples, 456820 words/s, in_qsize 7, out_qsize 0\n",
      "2021-01-02 10:51:59,082 : INFO : worker thread finished; awaiting finish of 3 more threads\n",
      "2021-01-02 10:51:59,096 : INFO : worker thread finished; awaiting finish of 2 more threads\n",
      "2021-01-02 10:51:59,111 : INFO : worker thread finished; awaiting finish of 1 more threads\n",
      "2021-01-02 10:51:59,119 : INFO : worker thread finished; awaiting finish of 0 more threads\n",
      "2021-01-02 10:51:59,120 : INFO : EPOCH - 4 : training on 2988534 raw words (2495051 effective words) took 5.4s, 460779 effective words/s\n",
      "2021-01-02 10:52:00,142 : INFO : EPOCH 5 - PROGRESS: at 18.22% examples, 455468 words/s, in_qsize 7, out_qsize 0\n",
      "2021-01-02 10:52:01,168 : INFO : EPOCH 5 - PROGRESS: at 36.70% examples, 453805 words/s, in_qsize 7, out_qsize 0\n",
      "2021-01-02 10:52:02,179 : INFO : EPOCH 5 - PROGRESS: at 55.83% examples, 460794 words/s, in_qsize 7, out_qsize 0\n",
      "2021-01-02 10:52:03,180 : INFO : EPOCH 5 - PROGRESS: at 74.56% examples, 461419 words/s, in_qsize 7, out_qsize 0\n",
      "2021-01-02 10:52:04,182 : INFO : EPOCH 5 - PROGRESS: at 93.39% examples, 461572 words/s, in_qsize 7, out_qsize 0\n",
      "2021-01-02 10:52:04,479 : INFO : worker thread finished; awaiting finish of 3 more threads\n",
      "2021-01-02 10:52:04,482 : INFO : worker thread finished; awaiting finish of 2 more threads\n",
      "2021-01-02 10:52:04,505 : INFO : worker thread finished; awaiting finish of 1 more threads\n",
      "2021-01-02 10:52:04,508 : INFO : worker thread finished; awaiting finish of 0 more threads\n",
      "2021-01-02 10:52:04,510 : INFO : EPOCH - 5 : training on 2988534 raw words (2494634 effective words) took 5.4s, 463410 effective words/s\n",
      "2021-01-02 10:52:04,512 : INFO : training on a 14942670 raw words (12473955 effective words) took 26.9s, 462927 effective words/s\n",
      "2021-01-02 10:52:04,514 : INFO : precomputing L2-norms of word weight vectors\n",
      "2021-01-02 10:52:04,587 : INFO : saving Word2Vec object under 100features_40minwords_12context, separately None\n",
      "2021-01-02 10:52:04,588 : INFO : not storing attribute vectors_norm\n",
      "2021-01-02 10:52:04,590 : INFO : not storing attribute cum_table\n",
      "2021-01-02 10:52:04,693 : INFO : saved 100features_40minwords_12context\n"
     ]
    },
    {
     "name": "stdout",
     "output_type": "stream",
     "text": [
      "CPU times: user 54.8 s, sys: 449 ms, total: 55.2 s\n",
      "Wall time: 30.6 s\n"
     ]
    }
   ],
   "source": [
    "%%time\n",
    "# configure the built-in logging module so that Word2Vec creates nice output messages\n",
    "logging.basicConfig(format = '%(asctime)s : %(levelname)s : %(message)s', \n",
    "                    level = logging.INFO)\n",
    "\n",
    "sentences = [review.split() for review in review_clean_original]\n",
    "\n",
    "# Set values for various parameters\n",
    "num_features = 100    # Word vector dimensionality                      \n",
    "min_word_count = 40   # Minimum word count                        \n",
    "num_workers = 4       # Number of threads to run in parallel\n",
    "context = 12          # Context window size                                                                                    \n",
    "downsampling = 1e-3   # Downsample setting for frequent words\n",
    "\n",
    "# Initialize and train the model (this will take some time)\n",
    "print(\"Training model...\")\n",
    "model = word2vec.Word2Vec(sentences, workers = num_workers, \n",
    "                          size = num_features, min_count = min_word_count,\n",
    "                          window = context, sample = downsampling)\n",
    "\n",
    "# If you don't plan to train the model any further, calling \n",
    "# init_sims will make the model much more memory-efficient.\n",
    "model.init_sims(replace = True)\n",
    "\n",
    "# It can be helpful to create a meaningful model name and \n",
    "# save the model for later use. You can load it later using Word2Vec.load()\n",
    "model_name = \"100features_40minwords_12context\"\n",
    "model.save(model_name)"
   ]
  },
  {
   "cell_type": "code",
   "execution_count": 65,
   "metadata": {
    "colab": {
     "base_uri": "https://localhost:8080/"
    },
    "id": "uyMcNL_Fs786",
    "outputId": "c67a3ee5-9e8c-4099-eade-6372772ce14b"
   },
   "outputs": [
    {
     "name": "stderr",
     "output_type": "stream",
     "text": [
      "2021-01-02 10:57:32,266 : INFO : loading Word2Vec object from 100features_40minwords_12context\n",
      "2021-01-02 10:57:32,345 : INFO : loading wv recursively from 100features_40minwords_12context.wv.* with mmap=None\n",
      "2021-01-02 10:57:32,346 : INFO : setting ignored attribute vectors_norm to None\n",
      "2021-01-02 10:57:32,348 : INFO : loading vocabulary recursively from 100features_40minwords_12context.vocabulary.* with mmap=None\n",
      "2021-01-02 10:57:32,349 : INFO : loading trainables recursively from 100features_40minwords_12context.trainables.* with mmap=None\n",
      "2021-01-02 10:57:32,351 : INFO : setting ignored attribute cum_table to None\n",
      "2021-01-02 10:57:32,352 : INFO : loaded 100features_40minwords_12context\n"
     ]
    }
   ],
   "source": [
    "# load the word embeddings\n",
    "model = word2vec.Word2Vec.load(\"100features_40minwords_12context\")"
   ]
  },
  {
   "cell_type": "code",
   "execution_count": 67,
   "metadata": {
    "colab": {
     "base_uri": "https://localhost:8080/"
    },
    "id": "MlbkpMjUvloS",
    "outputId": "61c87ee9-9f2e-4ffa-c096-852818b5a051"
   },
   "outputs": [
    {
     "data": {
      "text/plain": [
       "(8164, 100)"
      ]
     },
     "execution_count": 67,
     "metadata": {
      "tags": []
     },
     "output_type": "execute_result"
    }
   ],
   "source": [
    "# shape of the embedding matrix\n",
    "model.wv.vectors.shape"
   ]
  },
  {
   "cell_type": "code",
   "execution_count": 68,
   "metadata": {
    "colab": {
     "base_uri": "https://localhost:8080/"
    },
    "id": "57VR-gp1v7pd",
    "outputId": "70018189-12df-40f1-cda2-7c829ce8d7e2"
   },
   "outputs": [
    {
     "name": "stdout",
     "output_type": "stream",
     "text": [
      "Vocab length: 8164\n"
     ]
    },
    {
     "name": "stderr",
     "output_type": "stream",
     "text": [
      "/usr/local/lib/python3.6/dist-packages/ipykernel_launcher.py:6: DeprecationWarning: Call to deprecated `__getitem__` (Method will be removed in 4.0.0, use self.wv.__getitem__() instead).\n",
      "  \n"
     ]
    }
   ],
   "source": [
    "# Get vocabulary count of the model\n",
    "vocab_tmp = list(model.wv.vocab)\n",
    "print('Vocab length:', len(vocab_tmp))\n",
    "\n",
    "# Get distributional representation of each word\n",
    "X = model[vocab_tmp]"
   ]
  },
  {
   "cell_type": "markdown",
   "metadata": {
    "id": "ktd8RDPbw7JN"
   },
   "source": [
    "## Vector averaging to get the feature encoding of reviews"
   ]
  },
  {
   "cell_type": "code",
   "execution_count": 70,
   "metadata": {
    "id": "973c0enNwcTg"
   },
   "outputs": [],
   "source": [
    "def makeFeatureVec(review, model):\n",
    "  \"\"\"\n",
    "  This function returns the average of word vectors in a given review\n",
    "  \n",
    "  Args:\n",
    "      review: a single movie review\n",
    "      model: Word2Vec model\n",
    "\n",
    "  Returns:\n",
    "      featureVec: average of word vectors in a given review\n",
    "  \"\"\"\n",
    "  # Function to average all of the word vectors in a given paragraph\n",
    "  featureVec = []\n",
    "  \n",
    "  # Index2word is a list that contains the names of the words in \n",
    "  # the model's vocabulary. Convert it to a set, for speed \n",
    "  index2word_set = set(model.wv.index2word)\n",
    "  \n",
    "  # Loop over each word in the review and, if it is in the model's\n",
    "  # vocaublary, add its feature vector to the total\n",
    "  for n, word in enumerate(review):\n",
    "    if word in index2word_set: \n",
    "      featureVec.append(model[word])\n",
    "          \n",
    "  # Average the word vectors for a review\n",
    "  featureVec = np.mean(featureVec, axis = 0)\n",
    "  return featureVec"
   ]
  },
  {
   "cell_type": "code",
   "execution_count": null,
   "metadata": {},
   "outputs": [],
   "source": [
    "def getAvgFeatureVecs(reviews, model):\n",
    "  \"\"\"\n",
    "  This function calculates the average feature vector for each review\n",
    "  \n",
    "  Args:\n",
    "      reviews: list of reviews\n",
    "      model: Word2Vec model\n",
    "      \n",
    "  Returns:\n",
    "      reviewFeatureVecs: average of feature vectors for all the reviews\n",
    "  \"\"\"\n",
    "  # Given a set of reviews (each one a list of words), calculate \n",
    "  # the average feature vector for each review\n",
    "  \n",
    "  reviewFeatureVecs = []\n",
    "  # Loop through the reviews\n",
    "  for counter, review in enumerate(reviews):\n",
    "    # Print a status message every 5000th review\n",
    "    if counter % 5000. == 0.:\n",
    "      print(\"Review %d of %d\" % (counter, len(reviews)))\n",
    "\n",
    "    # Call the function (defined above) that makes average feature vectors\n",
    "    vector = makeFeatureVec(review, model)\n",
    "    reviewFeatureVecs.append(vector)\n",
    "        \n",
    "  return reviewFeatureVecs"
   ]
  },
  {
   "cell_type": "code",
   "execution_count": 73,
   "metadata": {
    "id": "x52DukvByGVC"
   },
   "outputs": [],
   "source": [
    "def train_sentiment(cleaned_reviews, y = reviews_df[\"sentiment\"]):\n",
    "  \"\"\"\n",
    "  This function will:\n",
    "  1. Convert reviews into feature vectors using word2vec.\n",
    "  2. split data into train and validation set.\n",
    "  3. train a random forest model using word embeddings and y (labels)\n",
    "  4. validate the model on the validation split\n",
    "  5. print accuracy of sentiment prediction on validation data\n",
    "  6. print confusion matrix on validation data results\n",
    "  \n",
    "  Args:\n",
    "      cleaned_reviews: list of processed reviews\n",
    "      y: target variable (0: negative sentiment, 1: positive sentiment)\n",
    "      \n",
    "  Returns: None  \n",
    "  \"\"\"\n",
    "\n",
    "  print(\"1.Creating Feature vectors using word2vec...\\n\")\n",
    "  trainDataVecs = getAvgFeatureVecs(cleaned_reviews, model)\n",
    "  \n",
    "  \n",
    "  print(\"\\n2.Splitting dataset into train and test sets...\\n\")\n",
    "  x_train, x_val, y_train, y_val = train_test_split(trainDataVecs, y, random_state = 42, test_size = 0.2)\n",
    "\n",
    "  \n",
    "  print(\"3. Training the random forest classifier...\\n\")\n",
    "  # Initialize Random Forest classifier \n",
    "  rf_model = RandomForestClassifier() \n",
    "\n",
    "  # Fit the random forest model to the training set, using word embeddings as\n",
    "  # features and the sentiment labels as the target variable\n",
    "  rf_model.fit(train_bow, y_train)\n",
    "  \n",
    "  print(\"Making predictions on the validation set!\\n\")\n",
    "  val_preds = rf_model.predict(val_bow)\n",
    "\n",
    "  print(\"Calculating accuracy on the validation set!\\n\")\n",
    "  valid_acc = accuracy_score(y_val, val_preds)\n",
    "  print(\"The validation accuracy is: \", valid_acc)"
   ]
  },
  {
   "cell_type": "code",
   "execution_count": 74,
   "metadata": {
    "colab": {
     "base_uri": "https://localhost:8080/"
    },
    "id": "xvFsJCH200hw",
    "outputId": "0357287b-e68a-4f10-ec3a-50eb03a1c608"
   },
   "outputs": [
    {
     "name": "stdout",
     "output_type": "stream",
     "text": [
      "1.Creating Feature vectors using word2vec...\n",
      "\n",
      "Review 0 of 25000\n"
     ]
    },
    {
     "name": "stderr",
     "output_type": "stream",
     "text": [
      "/usr/local/lib/python3.6/dist-packages/ipykernel_launcher.py:13: DeprecationWarning: Call to deprecated `__getitem__` (Method will be removed in 4.0.0, use self.wv.__getitem__() instead).\n",
      "  del sys.path[0]\n"
     ]
    },
    {
     "name": "stdout",
     "output_type": "stream",
     "text": [
      "Review 5000 of 25000\n",
      "Review 10000 of 25000\n",
      "Review 15000 of 25000\n",
      "Review 20000 of 25000\n",
      "\n",
      "2.Splitting dataset into train and test sets...\n",
      "\n",
      "3. Training the random forest classifier...\n",
      "\n",
      "The validation accuracy is:  0.505\n"
     ]
    }
   ],
   "source": [
    "train_sentiment(cleaned_reviews = review_clean_original, y = reviews_df[\"sentiment\"])"
   ]
  },
  {
   "cell_type": "markdown",
   "metadata": {},
   "source": [
    "- The validation accuracy of random forest classifier trained on word embeddings is very low. This is due to small size of dataset to train word embeddings from scratch. "
   ]
  },
  {
   "cell_type": "code",
   "execution_count": null,
   "metadata": {},
   "outputs": [],
   "source": []
  }
 ],
 "metadata": {
  "colab": {
   "name": "Movie_Reviews.ipynb",
   "provenance": []
  },
  "kernelspec": {
   "display_name": "Python 3",
   "language": "python",
   "name": "python3"
  },
  "language_info": {
   "codemirror_mode": {
    "name": "ipython",
    "version": 3
   },
   "file_extension": ".py",
   "mimetype": "text/x-python",
   "name": "python",
   "nbconvert_exporter": "python",
   "pygments_lexer": "ipython3",
   "version": "3.7.4"
  }
 },
 "nbformat": 4,
 "nbformat_minor": 1
}
